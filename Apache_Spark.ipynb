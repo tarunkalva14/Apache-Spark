{
  "nbformat": 4,
  "nbformat_minor": 0,
  "metadata": {
    "colab": {
      "provenance": [],
      "mount_file_id": "1RCwQqVfq6LnGCLjv4bkMLy16QDPjwh8P",
      "authorship_tag": "ABX9TyMLjp7XuD6QWfO0X4JrJ8aC"
    },
    "kernelspec": {
      "name": "python3",
      "display_name": "Python 3"
    },
    "language_info": {
      "name": "python"
    }
  },
  "cells": [
    {
      "cell_type": "code",
      "source": [
        "spark.conf.set(\"spark.sql.adaptive.enabled\", \"False\")"
      ],
      "metadata": {
        "id": "EsryTTWMaIo9"
      },
      "execution_count": null,
      "outputs": []
    },
    {
      "cell_type": "code",
      "execution_count": null,
      "metadata": {
        "id": "YWHvQmnGFKXq"
      },
      "outputs": [],
      "source": [
        "from pyspark.sql import SparkSession\n",
        "from pyspark.sql.functions import *\n",
        "from pyspark.sql.types import *"
      ]
    },
    {
      "cell_type": "code",
      "source": [
        "spark = SparkSession.builder.appName(\"Spark DataFrames\").getOrCreate()\n",
        "spark"
      ],
      "metadata": {
        "colab": {
          "base_uri": "https://localhost:8080/",
          "height": 219
        },
        "id": "QI6ae3YhFkPF",
        "outputId": "1d559a59-8807-4eca-e8c8-1c0af7b35380"
      },
      "execution_count": null,
      "outputs": [
        {
          "output_type": "execute_result",
          "data": {
            "text/plain": [
              "<pyspark.sql.session.SparkSession at 0x7b70a5d6c3e0>"
            ],
            "text/html": [
              "\n",
              "            <div>\n",
              "                <p><b>SparkSession - in-memory</b></p>\n",
              "                \n",
              "        <div>\n",
              "            <p><b>SparkContext</b></p>\n",
              "\n",
              "            <p><a href=\"http://a8234c6844f4:4040\">Spark UI</a></p>\n",
              "\n",
              "            <dl>\n",
              "              <dt>Version</dt>\n",
              "                <dd><code>v3.5.1</code></dd>\n",
              "              <dt>Master</dt>\n",
              "                <dd><code>local[*]</code></dd>\n",
              "              <dt>AppName</dt>\n",
              "                <dd><code>Spark DataFrames</code></dd>\n",
              "            </dl>\n",
              "        </div>\n",
              "        \n",
              "            </div>\n",
              "        "
            ]
          },
          "metadata": {},
          "execution_count": 33
        }
      ]
    },
    {
      "cell_type": "code",
      "source": [
        "data = [\n",
        "    (\"Alice\", 10,\"New York\"),\n",
        "    (\"Bob\", 20,\"India\"),\n",
        "    (\"Charlie\", 30,\"London\"),\n",
        "    (\"David\", 40,\"New York\"),\n",
        "    (\"Eve\", 50,\"India\"),\n",
        "    (\"Frank\", 60,\"London\"),\n",
        "    (\"Grace\", 70,\"New York\"),\n",
        "    (\"Hannah\", 80,\"India\"),\n",
        "    (\"Ivan\", 90,\"London\"),\n",
        "    (\"Jack\", 100,\"New York\")\n",
        "]\n",
        "\n",
        "schema = StructType([\n",
        "    StructField(\"name\", StringType(), True),\n",
        "    StructField(\"age\", IntegerType(), True),\n",
        "    StructField(\"city\", StringType(), True)\n",
        "])\n",
        "df = spark.createDataFrame(data, schema)"
      ],
      "metadata": {
        "id": "CrikQ6vFFxnP"
      },
      "execution_count": null,
      "outputs": []
    },
    {
      "cell_type": "markdown",
      "source": [
        "**Narrow Transformation**"
      ],
      "metadata": {
        "id": "O2WfB5KjGK7X"
      }
    },
    {
      "cell_type": "code",
      "source": [
        "df = df.filter(col('city')== \"London\")"
      ],
      "metadata": {
        "id": "6d3k9DvcF4HA"
      },
      "execution_count": null,
      "outputs": []
    },
    {
      "cell_type": "code",
      "source": [
        "display(df)"
      ],
      "metadata": {
        "colab": {
          "base_uri": "https://localhost:8080/",
          "height": 34
        },
        "id": "c8YLJt5wF5X6",
        "outputId": "8b072449-2470-4cc8-f356-7a8ece7569af"
      },
      "execution_count": null,
      "outputs": [
        {
          "output_type": "display_data",
          "data": {
            "text/plain": [
              "DataFrame[name: string, age: int, city: string]"
            ]
          },
          "metadata": {}
        }
      ]
    },
    {
      "cell_type": "code",
      "source": [
        "df.explain(True)"
      ],
      "metadata": {
        "colab": {
          "base_uri": "https://localhost:8080/"
        },
        "id": "InGbVUz1GAW0",
        "outputId": "b1d51916-b04c-49c3-c847-0b984b4b461b"
      },
      "execution_count": null,
      "outputs": [
        {
          "output_type": "stream",
          "name": "stdout",
          "text": [
            "== Parsed Logical Plan ==\n",
            "'Filter ('city = London)\n",
            "+- LogicalRDD [name#0, age#1, city#2], false\n",
            "\n",
            "== Analyzed Logical Plan ==\n",
            "name: string, age: int, city: string\n",
            "Filter (city#2 = London)\n",
            "+- LogicalRDD [name#0, age#1, city#2], false\n",
            "\n",
            "== Optimized Logical Plan ==\n",
            "Filter (isnotnull(city#2) AND (city#2 = London))\n",
            "+- LogicalRDD [name#0, age#1, city#2], false\n",
            "\n",
            "== Physical Plan ==\n",
            "*(1) Filter (isnotnull(city#2) AND (city#2 = London))\n",
            "+- *(1) Scan ExistingRDD[name#0,age#1,city#2]\n",
            "\n"
          ]
        }
      ]
    },
    {
      "cell_type": "code",
      "source": [
        "df.show()"
      ],
      "metadata": {
        "colab": {
          "base_uri": "https://localhost:8080/"
        },
        "id": "jwoicejiGCuf",
        "outputId": "1060ce87-099d-47b9-e7e1-e827035cf3c6"
      },
      "execution_count": null,
      "outputs": [
        {
          "output_type": "stream",
          "name": "stdout",
          "text": [
            "+-------+---+------+\n",
            "|   name|age|  city|\n",
            "+-------+---+------+\n",
            "|Charlie| 30|London|\n",
            "|  Frank| 60|London|\n",
            "|   Ivan| 90|London|\n",
            "+-------+---+------+\n",
            "\n"
          ]
        }
      ]
    },
    {
      "cell_type": "markdown",
      "source": [
        "\n",
        "**Wide Transformation**\n",
        "---\n",
        "\n"
      ],
      "metadata": {
        "id": "keM0rlzSGR3U"
      }
    },
    {
      "cell_type": "code",
      "source": [
        "df = df.groupBy('city').agg(max(col('age')))"
      ],
      "metadata": {
        "id": "NaNspygZGaxb"
      },
      "execution_count": null,
      "outputs": []
    },
    {
      "cell_type": "code",
      "source": [
        "df.show()"
      ],
      "metadata": {
        "colab": {
          "base_uri": "https://localhost:8080/"
        },
        "id": "0a4qMz32GpsX",
        "outputId": "980949ab-a0f6-4c23-93f8-1600b4616907"
      },
      "execution_count": null,
      "outputs": [
        {
          "output_type": "stream",
          "name": "stdout",
          "text": [
            "+--------+--------+\n",
            "|    city|max(age)|\n",
            "+--------+--------+\n",
            "|  London|      90|\n",
            "|   India|      80|\n",
            "|New York|     100|\n",
            "+--------+--------+\n",
            "\n"
          ]
        }
      ]
    },
    {
      "cell_type": "code",
      "source": [
        "df.explain()"
      ],
      "metadata": {
        "colab": {
          "base_uri": "https://localhost:8080/"
        },
        "id": "2nRdEfvmGuza",
        "outputId": "5c1f2648-516b-4156-f6be-2b322ca0cb84"
      },
      "execution_count": null,
      "outputs": [
        {
          "output_type": "stream",
          "name": "stdout",
          "text": [
            "== Physical Plan ==\n",
            "AdaptiveSparkPlan isFinalPlan=false\n",
            "+- HashAggregate(keys=[city#40], functions=[max(age#39)])\n",
            "   +- Exchange hashpartitioning(city#40, 200), ENSURE_REQUIREMENTS, [plan_id=129]\n",
            "      +- HashAggregate(keys=[city#40], functions=[partial_max(age#39)])\n",
            "         +- Project [age#39, city#40]\n",
            "            +- Scan ExistingRDD[name#38,age#39,city#40]\n",
            "\n",
            "\n"
          ]
        }
      ]
    },
    {
      "cell_type": "markdown",
      "source": [
        "### **Repartition VS Coalesce**"
      ],
      "metadata": {
        "id": "aC5ko0xhG4f2"
      }
    },
    {
      "cell_type": "code",
      "source": [
        "df.rdd.getNumPartitions()"
      ],
      "metadata": {
        "colab": {
          "base_uri": "https://localhost:8080/"
        },
        "id": "_4U-ZAnhHUrL",
        "outputId": "e978cc3f-d1f1-444b-bcd2-11ba5998d4cc"
      },
      "execution_count": null,
      "outputs": [
        {
          "output_type": "execute_result",
          "data": {
            "text/plain": [
              "1"
            ]
          },
          "metadata": {},
          "execution_count": 24
        }
      ]
    },
    {
      "cell_type": "code",
      "source": [
        "#Repartition\n",
        "\n",
        "df = df.repartition(10)"
      ],
      "metadata": {
        "id": "vvBtjzMNHlUM"
      },
      "execution_count": null,
      "outputs": []
    },
    {
      "cell_type": "code",
      "source": [
        "df.explain()"
      ],
      "metadata": {
        "colab": {
          "base_uri": "https://localhost:8080/"
        },
        "id": "5lKE3gpqHuQA",
        "outputId": "39d64138-7a89-409f-cb7f-8e3886a84bb1"
      },
      "execution_count": null,
      "outputs": [
        {
          "output_type": "stream",
          "name": "stdout",
          "text": [
            "== Physical Plan ==\n",
            "AdaptiveSparkPlan isFinalPlan=true\n",
            "+- == Final Plan ==\n",
            "   ShuffleQueryStage 1\n",
            "   +- Exchange RoundRobinPartitioning(10), REPARTITION_BY_NUM, [plan_id=204]\n",
            "      +- *(2) HashAggregate(keys=[city#40], functions=[max(age#39)])\n",
            "         +- AQEShuffleRead coalesced\n",
            "            +- ShuffleQueryStage 0\n",
            "               +- Exchange hashpartitioning(city#40, 200), ENSURE_REQUIREMENTS, [plan_id=184]\n",
            "                  +- *(1) HashAggregate(keys=[city#40], functions=[partial_max(age#39)])\n",
            "                     +- *(1) Project [age#39, city#40]\n",
            "                        +- *(1) Scan ExistingRDD[name#38,age#39,city#40]\n",
            "+- == Initial Plan ==\n",
            "   Exchange RoundRobinPartitioning(10), REPARTITION_BY_NUM, [plan_id=172]\n",
            "   +- HashAggregate(keys=[city#40], functions=[max(age#39)])\n",
            "      +- Exchange hashpartitioning(city#40, 200), ENSURE_REQUIREMENTS, [plan_id=170]\n",
            "         +- HashAggregate(keys=[city#40], functions=[partial_max(age#39)])\n",
            "            +- Project [age#39, city#40]\n",
            "               +- Scan ExistingRDD[name#38,age#39,city#40]\n",
            "\n",
            "\n"
          ]
        }
      ]
    },
    {
      "cell_type": "code",
      "source": [
        "#Coalesce\n",
        "\n",
        "df = df.coalesce(1)"
      ],
      "metadata": {
        "id": "ABK-kOXMIOK1"
      },
      "execution_count": null,
      "outputs": []
    },
    {
      "cell_type": "code",
      "source": [
        "df.explain()"
      ],
      "metadata": {
        "colab": {
          "base_uri": "https://localhost:8080/"
        },
        "id": "KLfzIAJJIR_y",
        "outputId": "9e6f35f1-3ab6-4ead-d8f5-a4a57deb0fd5"
      },
      "execution_count": null,
      "outputs": [
        {
          "output_type": "stream",
          "name": "stdout",
          "text": [
            "== Physical Plan ==\n",
            "AdaptiveSparkPlan isFinalPlan=true\n",
            "+- == Final Plan ==\n",
            "   Coalesce 1\n",
            "   +- ShuffleQueryStage 1\n",
            "      +- Exchange RoundRobinPartitioning(10), REPARTITION_BY_NUM, [plan_id=358]\n",
            "         +- *(2) HashAggregate(keys=[city#40], functions=[max(age#39)])\n",
            "            +- AQEShuffleRead coalesced\n",
            "               +- ShuffleQueryStage 0\n",
            "                  +- Exchange hashpartitioning(city#40, 200), ENSURE_REQUIREMENTS, [plan_id=334]\n",
            "                     +- *(1) HashAggregate(keys=[city#40], functions=[partial_max(age#39)])\n",
            "                        +- *(1) Project [age#39, city#40]\n",
            "                           +- *(1) Scan ExistingRDD[name#38,age#39,city#40]\n",
            "+- == Initial Plan ==\n",
            "   Coalesce 1\n",
            "   +- Exchange RoundRobinPartitioning(10), REPARTITION_BY_NUM, [plan_id=321]\n",
            "      +- HashAggregate(keys=[city#40], functions=[max(age#39)])\n",
            "         +- Exchange hashpartitioning(city#40, 200), ENSURE_REQUIREMENTS, [plan_id=319]\n",
            "            +- HashAggregate(keys=[city#40], functions=[partial_max(age#39)])\n",
            "               +- Project [age#39, city#40]\n",
            "                  +- Scan ExistingRDD[name#38,age#39,city#40]\n",
            "\n",
            "\n"
          ]
        }
      ]
    },
    {
      "cell_type": "markdown",
      "source": [
        "# **Data Reading**"
      ],
      "metadata": {
        "id": "vMSqWpYscXZm"
      }
    },
    {
      "cell_type": "code",
      "source": [
        "df = spark.read.format(\"csv\")\\\n",
        "      .option(\"header\", \"true\")\\\n",
        "      .option(\"inferSchema\", \"true\")\\\n",
        "      .load(\"/content/MegaMart.csv\")"
      ],
      "metadata": {
        "id": "geFQhSbrOf3X"
      },
      "execution_count": null,
      "outputs": []
    },
    {
      "cell_type": "code",
      "source": [
        "spark"
      ],
      "metadata": {
        "colab": {
          "base_uri": "https://localhost:8080/",
          "height": 219
        },
        "id": "K3lXBipxRRRz",
        "outputId": "fa98b77a-1719-43ad-8239-3507776b7328"
      },
      "execution_count": null,
      "outputs": [
        {
          "output_type": "execute_result",
          "data": {
            "text/plain": [
              "<pyspark.sql.session.SparkSession at 0x7b70a5d6c3e0>"
            ],
            "text/html": [
              "\n",
              "            <div>\n",
              "                <p><b>SparkSession - in-memory</b></p>\n",
              "                \n",
              "        <div>\n",
              "            <p><b>SparkContext</b></p>\n",
              "\n",
              "            <p><a href=\"http://a8234c6844f4:4040\">Spark UI</a></p>\n",
              "\n",
              "            <dl>\n",
              "              <dt>Version</dt>\n",
              "                <dd><code>v3.5.1</code></dd>\n",
              "              <dt>Master</dt>\n",
              "                <dd><code>local[*]</code></dd>\n",
              "              <dt>AppName</dt>\n",
              "                <dd><code>Spark DataFrames</code></dd>\n",
              "            </dl>\n",
              "        </div>\n",
              "        \n",
              "            </div>\n",
              "        "
            ]
          },
          "metadata": {},
          "execution_count": 58
        }
      ]
    },
    {
      "cell_type": "code",
      "source": [
        "df.show()"
      ],
      "metadata": {
        "colab": {
          "base_uri": "https://localhost:8080/"
        },
        "id": "9NJff63sYc5X",
        "outputId": "c5e80cd5-50a6-41e7-800f-fd4da2714b85"
      },
      "execution_count": null,
      "outputs": [
        {
          "output_type": "stream",
          "name": "stdout",
          "text": [
            "+--------+-------+----------+----------+----------------+--------------------+--------+--------------+--------------+------------+\n",
            "|order_id|user_id|order_date|product_id|product_category|        product_name|quantity|price_per_unit|payment_method|order_status|\n",
            "+--------+-------+----------+----------+----------------+--------------------+--------+--------------+--------------+------------+\n",
            "|    1001|   U188|2025-04-20|      P940|         Fashion|            Sneakers|       2|         58.53|        PayPal|   Cancelled|\n",
            "|    1002|   U062|2025-04-16|      P794|         Fashion|             T-Shirt|       3|         83.76|           UPI|    Returned|\n",
            "|    1003|   U058|2025-04-18|      P326|         Fashion|          Sunglasses|       2|         78.85|        PayPal|  Processing|\n",
            "|    1004|   U011|2025-04-10|      P574|         Fashion|          Sunglasses|       5|         46.49|        PayPal|   Delivered|\n",
            "|    1005|   U003|2025-04-19|      P988|      Home Decor|         Photo Frame|       2|         78.61|        PayPal|    Returned|\n",
            "|    1006|   U017|2025-04-15|      P328|         Kitchen|           Knife Set|       4|         53.51|   Credit Card|    Returned|\n",
            "|    1007|   U129|2025-04-23|      P786|      Home Decor|          Wall Clock|       5|         12.71|   Credit Card|    Returned|\n",
            "|    1008|   U102|2025-04-15|      P101|      Home Decor|         Photo Frame|       1|          46.6|    Debit Card|   Cancelled|\n",
            "|    1009|   U040|2025-04-04|      P610|         Kitchen|             Toaster|       4|         35.87|   Credit Card|  Processing|\n",
            "|    1010|   U186|2025-04-29|      P354|         Kitchen|           Microwave|       1|         30.95|   Credit Card|  Processing|\n",
            "|    1011|   U168|2025-05-02|      P706|     Electronics|         USB-C Cable|       4|         18.79|        PayPal|  Processing|\n",
            "|    1012|   U148|2025-04-24|      P315|         Fashion|          Sunglasses|       5|         69.14|   Credit Card|  Processing|\n",
            "|    1013|   U140|2025-05-03|      P516|         Fashion|            Sneakers|       5|         90.64|   Credit Card|   Cancelled|\n",
            "|    1014|   U112|2025-04-18|      P111|           Books|Data Engineering 101|       1|         93.91|   Credit Card|   Cancelled|\n",
            "|    1015|   U184|2025-04-11|      P930|         Fashion|          Sunglasses|       1|          61.0|           UPI|   Cancelled|\n",
            "|    1016|   U025|2025-04-24|      P713|     Electronics|          Smartwatch|       2|         54.77|           UPI|    Returned|\n",
            "|    1017|   U021|2025-04-26|      P728|           Books|  Big Data Explained|       5|         13.42|        PayPal|   Delivered|\n",
            "|    1018|   U067|2025-04-15|      P650|     Electronics|      Wireless Mouse|       2|         18.72|    Debit Card|  Processing|\n",
            "|    1019|   U115|2025-05-03|      P973|         Kitchen|             Blender|       3|         35.68|    Debit Card|   Delivered|\n",
            "|    1020|   U159|2025-04-16|      P859|         Kitchen|             Blender|       4|         56.08|           UPI|  Processing|\n",
            "+--------+-------+----------+----------+----------------+--------------------+--------+--------------+--------------+------------+\n",
            "only showing top 20 rows\n",
            "\n"
          ]
        }
      ]
    },
    {
      "cell_type": "code",
      "source": [
        "df= df.filter(col('product_name')== \"Sneakers\")"
      ],
      "metadata": {
        "id": "SooSo1rCYpUf"
      },
      "execution_count": null,
      "outputs": []
    },
    {
      "cell_type": "code",
      "source": [
        "df = df.select('order_id','product_name')"
      ],
      "metadata": {
        "id": "5v3oQL2tZAEM"
      },
      "execution_count": null,
      "outputs": []
    },
    {
      "cell_type": "code",
      "source": [
        "df= df.groupBy('product_name').agg(count(col('order_id')))"
      ],
      "metadata": {
        "id": "1bvZKIU_ZSz8"
      },
      "execution_count": null,
      "outputs": []
    },
    {
      "cell_type": "code",
      "source": [
        "df.show()"
      ],
      "metadata": {
        "colab": {
          "base_uri": "https://localhost:8080/"
        },
        "id": "l3HC5U2Za-Da",
        "outputId": "1c24a35e-8414-4cae-d699-40c9039e3137"
      },
      "execution_count": null,
      "outputs": [
        {
          "output_type": "stream",
          "name": "stdout",
          "text": [
            "+------------+---------------+\n",
            "|product_name|count(order_id)|\n",
            "+------------+---------------+\n",
            "|    Sneakers|             41|\n",
            "+------------+---------------+\n",
            "\n"
          ]
        }
      ]
    }
  ]
}