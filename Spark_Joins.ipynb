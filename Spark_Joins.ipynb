{
  "nbformat": 4,
  "nbformat_minor": 0,
  "metadata": {
    "colab": {
      "provenance": [],
      "authorship_tag": "ABX9TyP6//I3Ce7H6O52O4yxuYHw"
    },
    "kernelspec": {
      "name": "python3",
      "display_name": "Python 3"
    },
    "language_info": {
      "name": "python"
    }
  },
  "cells": [
    {
      "cell_type": "code",
      "source": [
        "from pyspark.sql import SparkSession\n",
        "from pyspark.sql.functions import broadcast"
      ],
      "metadata": {
        "id": "_cIdQZExQB1L"
      },
      "execution_count": null,
      "outputs": []
    },
    {
      "cell_type": "code",
      "source": [
        "spark = SparkSession.builder.appName(\"SparkJoins\").getOrCreate()\n"
      ],
      "metadata": {
        "id": "f9mIVgq5RDFD"
      },
      "execution_count": null,
      "outputs": []
    },
    {
      "cell_type": "code",
      "source": [
        "## Create data frame 1\n",
        "d1 = [\n",
        "    (1,\"Alice\"),\n",
        "    (2,\"Bob\"),\n",
        "    (3,\"Charlie\"),\n",
        "    (4,\"David\"),\n",
        "    (5,\"Eve\")\n",
        "]\n",
        "df1 = spark.createDataFrame(d1,[\"id\",\"name\"])\n",
        "\n",
        "## Create data frame 2\n",
        "d2 = [\n",
        "    (1,50000),\n",
        "    (2,60000),\n",
        "    (3,70000),\n",
        "    (4,80000),\n",
        "    (5,90000)\n",
        "]\n",
        "df2 = spark.createDataFrame(d2,[\"id\",\"salary\"])"
      ],
      "metadata": {
        "id": "9_KSXycfQTqF"
      },
      "execution_count": null,
      "outputs": []
    },
    {
      "cell_type": "code",
      "source": [
        "df_join_board=df1.join(broadcast(df2),df1['id']==df2['id'],\"left\")"
      ],
      "metadata": {
        "id": "Vt56S3ElRlpN"
      },
      "execution_count": null,
      "outputs": []
    },
    {
      "cell_type": "code",
      "source": [
        "df_join_board.show()"
      ],
      "metadata": {
        "colab": {
          "base_uri": "https://localhost:8080/"
        },
        "id": "6gIoM8N3Rw0d",
        "outputId": "5c18c55f-d6d7-484b-a5ab-eee1039f2939"
      },
      "execution_count": null,
      "outputs": [
        {
          "output_type": "stream",
          "name": "stdout",
          "text": [
            "+---+-------+---+------+\n",
            "| id|   name| id|salary|\n",
            "+---+-------+---+------+\n",
            "|  1|  Alice|  1| 50000|\n",
            "|  2|    Bob|  2| 60000|\n",
            "|  3|Charlie|  3| 70000|\n",
            "|  4|  David|  4| 80000|\n",
            "|  5|    Eve|  5| 90000|\n",
            "+---+-------+---+------+\n",
            "\n"
          ]
        }
      ]
    },
    {
      "cell_type": "code",
      "source": [
        "df_join_board.explain(True)"
      ],
      "metadata": {
        "colab": {
          "base_uri": "https://localhost:8080/"
        },
        "id": "SHg5759RR4qh",
        "outputId": "10ef23f4-0640-4507-cf64-3eb632f0c771"
      },
      "execution_count": null,
      "outputs": [
        {
          "output_type": "stream",
          "name": "stdout",
          "text": [
            "== Parsed Logical Plan ==\n",
            "Join LeftOuter, (id#158L = id#162L)\n",
            ":- LogicalRDD [id#158L, name#159], false\n",
            "+- ResolvedHint (strategy=broadcast)\n",
            "   +- LogicalRDD [id#162L, salary#163L], false\n",
            "\n",
            "== Analyzed Logical Plan ==\n",
            "id: bigint, name: string, id: bigint, salary: bigint\n",
            "Join LeftOuter, (id#158L = id#162L)\n",
            ":- LogicalRDD [id#158L, name#159], false\n",
            "+- ResolvedHint (strategy=broadcast)\n",
            "   +- LogicalRDD [id#162L, salary#163L], false\n",
            "\n",
            "== Optimized Logical Plan ==\n",
            "Join LeftOuter, (id#158L = id#162L), rightHint=(strategy=broadcast)\n",
            ":- LogicalRDD [id#158L, name#159], false\n",
            "+- Filter isnotnull(id#162L)\n",
            "   +- LogicalRDD [id#162L, salary#163L], false\n",
            "\n",
            "== Physical Plan ==\n",
            "*(2) BroadcastHashJoin [id#158L], [id#162L], LeftOuter, BuildRight, false\n",
            ":- *(2) Scan ExistingRDD[id#158L,name#159]\n",
            "+- BroadcastExchange HashedRelationBroadcastMode(List(input[0, bigint, false]),false), [plan_id=546]\n",
            "   +- *(1) Filter isnotnull(id#162L)\n",
            "      +- *(1) Scan ExistingRDD[id#162L,salary#163L]\n",
            "\n"
          ]
        }
      ]
    }
  ]
}