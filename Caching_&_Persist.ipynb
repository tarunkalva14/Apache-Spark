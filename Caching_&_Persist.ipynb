{
  "nbformat": 4,
  "nbformat_minor": 0,
  "metadata": {
    "colab": {
      "provenance": [],
      "authorship_tag": "ABX9TyPz4Z/nI/78hQvETYnqlJvB"
    },
    "kernelspec": {
      "name": "python3",
      "display_name": "Python 3"
    },
    "language_info": {
      "name": "python"
    }
  },
  "cells": [
    {
      "cell_type": "code",
      "execution_count": 1,
      "metadata": {
        "id": "vF2WZ9xItQdv"
      },
      "outputs": [],
      "source": [
        "from pyspark.sql import SparkSession\n",
        "from pyspark.sql.functions import *"
      ]
    },
    {
      "cell_type": "code",
      "source": [
        "spark = SparkSession.builder.appName('cache').getOrCreate()"
      ],
      "metadata": {
        "id": "LbIhg91bt4ZN"
      },
      "execution_count": 5,
      "outputs": []
    },
    {
      "cell_type": "code",
      "source": [
        "d1 =[\n",
        "    (1,\"Alice\"),\n",
        "    (2,\"Bob\"),\n",
        "    (3,\"Charlie\"),\n",
        "    (4,\"David\"),\n",
        "    (5,\"Eve\")\n",
        "]\n",
        "df1 = spark.createDataFrame(d1,[\"id\",\"name\"])"
      ],
      "metadata": {
        "id": "aYpdhTXMt_iw"
      },
      "execution_count": 6,
      "outputs": []
    },
    {
      "cell_type": "code",
      "source": [
        "df1.show()"
      ],
      "metadata": {
        "colab": {
          "base_uri": "https://localhost:8080/"
        },
        "id": "PlDV_XEbuVH1",
        "outputId": "4af063ab-8d06-4aa3-a8b6-577712893c6e"
      },
      "execution_count": null,
      "outputs": [
        {
          "output_type": "stream",
          "name": "stdout",
          "text": [
            "+---+-------+\n",
            "| id|   name|\n",
            "+---+-------+\n",
            "|  1|  Alice|\n",
            "|  2|    Bob|\n",
            "|  3|Charlie|\n",
            "|  4|  David|\n",
            "|  5|    Eve|\n",
            "+---+-------+\n",
            "\n"
          ]
        }
      ]
    },
    {
      "cell_type": "code",
      "source": [
        "df1 = df1.withColumn('flag',lit('Yes'))"
      ],
      "metadata": {
        "id": "vEX-KMxHua1B"
      },
      "execution_count": null,
      "outputs": []
    },
    {
      "cell_type": "code",
      "source": [
        "display(df1)"
      ],
      "metadata": {
        "colab": {
          "base_uri": "https://localhost:8080/",
          "height": 34
        },
        "id": "Q3J5cVZYvjeh",
        "outputId": "2d07c6aa-a106-4400-97c0-f77d5405e6a5"
      },
      "execution_count": null,
      "outputs": [
        {
          "output_type": "display_data",
          "data": {
            "text/plain": [
              "DataFrame[id: bigint, name: string, flag: string]"
            ]
          },
          "metadata": {}
        }
      ]
    },
    {
      "cell_type": "code",
      "source": [
        "df1.show()"
      ],
      "metadata": {
        "colab": {
          "base_uri": "https://localhost:8080/"
        },
        "id": "hSDhK5mavmKi",
        "outputId": "41bc2e8f-c933-4f12-9b1c-df169f9af676"
      },
      "execution_count": null,
      "outputs": [
        {
          "output_type": "stream",
          "name": "stdout",
          "text": [
            "+---+-------+----+\n",
            "| id|   name|flag|\n",
            "+---+-------+----+\n",
            "|  1|  Alice| Yes|\n",
            "|  2|    Bob| Yes|\n",
            "|  3|Charlie| Yes|\n",
            "|  4|  David| Yes|\n",
            "|  5|    Eve| Yes|\n",
            "+---+-------+----+\n",
            "\n"
          ]
        }
      ]
    },
    {
      "cell_type": "code",
      "source": [
        "df1.cache()"
      ],
      "metadata": {
        "colab": {
          "base_uri": "https://localhost:8080/"
        },
        "id": "HoaptU6SxJz0",
        "outputId": "8241817b-87a3-4213-8a1c-b131b160e461"
      },
      "execution_count": null,
      "outputs": [
        {
          "output_type": "execute_result",
          "data": {
            "text/plain": [
              "DataFrame[id: bigint, name: string, flag: string]"
            ]
          },
          "metadata": {},
          "execution_count": 19
        }
      ]
    },
    {
      "cell_type": "code",
      "source": [
        "df2 = df1.filter(col('id')==2)"
      ],
      "metadata": {
        "id": "WNbtS05Pv9bP"
      },
      "execution_count": null,
      "outputs": []
    },
    {
      "cell_type": "code",
      "source": [
        "df2.show()"
      ],
      "metadata": {
        "colab": {
          "base_uri": "https://localhost:8080/"
        },
        "id": "Fs1zevGTwCc9",
        "outputId": "49ac98e1-652a-442a-df99-551b9ee52259"
      },
      "execution_count": null,
      "outputs": [
        {
          "output_type": "stream",
          "name": "stdout",
          "text": [
            "+---+----+----+\n",
            "| id|name|flag|\n",
            "+---+----+----+\n",
            "|  2| Bob| Yes|\n",
            "+---+----+----+\n",
            "\n"
          ]
        }
      ]
    },
    {
      "cell_type": "code",
      "source": [
        "df2.explain()"
      ],
      "metadata": {
        "colab": {
          "base_uri": "https://localhost:8080/"
        },
        "id": "39xtbiEZwFzK",
        "outputId": "9dfbf264-5157-4e69-9c2c-f978497e95fa"
      },
      "execution_count": null,
      "outputs": [
        {
          "output_type": "stream",
          "name": "stdout",
          "text": [
            "== Physical Plan ==\n",
            "AdaptiveSparkPlan isFinalPlan=false\n",
            "+- Filter (isnotnull(id#43L) AND (id#43L = 2))\n",
            "   +- InMemoryTableScan [id#43L, name#44, flag#56], [isnotnull(id#43L), (id#43L = 2)]\n",
            "         +- InMemoryRelation [id#43L, name#44, flag#56], StorageLevel(disk, memory, deserialized, 1 replicas)\n",
            "               +- *(1) Project [id#43L, name#44, Yes AS flag#56]\n",
            "                  +- *(1) Scan ExistingRDD[id#43L,name#44]\n",
            "\n",
            "\n"
          ]
        }
      ]
    },
    {
      "cell_type": "code",
      "source": [
        "from pyspark.storagelevel import StorageLevel"
      ],
      "metadata": {
        "id": "5KD4QesUNOtB"
      },
      "execution_count": 8,
      "outputs": []
    },
    {
      "cell_type": "code",
      "source": [
        "df1.persist(StorageLevel.MEMORY_ONLY)"
      ],
      "metadata": {
        "colab": {
          "base_uri": "https://localhost:8080/"
        },
        "id": "UurwkP9sNUU-",
        "outputId": "39fbbc73-b5d3-41b4-b72b-9c440c373da7"
      },
      "execution_count": 10,
      "outputs": [
        {
          "output_type": "execute_result",
          "data": {
            "text/plain": [
              "DataFrame[id: bigint, name: string]"
            ]
          },
          "metadata": {},
          "execution_count": 10
        }
      ]
    },
    {
      "cell_type": "code",
      "source": [
        "df2 = df1.filter(col('id')==2)"
      ],
      "metadata": {
        "id": "TjDqRPnmNxpq"
      },
      "execution_count": 11,
      "outputs": []
    },
    {
      "cell_type": "code",
      "source": [
        "df2.show()"
      ],
      "metadata": {
        "colab": {
          "base_uri": "https://localhost:8080/"
        },
        "id": "2k_LNpMYN4PP",
        "outputId": "11aa264f-0d58-41df-dc64-e0398399b06d"
      },
      "execution_count": 12,
      "outputs": [
        {
          "output_type": "stream",
          "name": "stdout",
          "text": [
            "+---+----+\n",
            "| id|name|\n",
            "+---+----+\n",
            "|  2| Bob|\n",
            "+---+----+\n",
            "\n"
          ]
        }
      ]
    },
    {
      "cell_type": "code",
      "source": [
        "df2.explain(True)"
      ],
      "metadata": {
        "colab": {
          "base_uri": "https://localhost:8080/"
        },
        "id": "oZUYHYyrN7Xx",
        "outputId": "e906e6b3-46a6-4fcb-c510-1b32e4c141ab"
      },
      "execution_count": 14,
      "outputs": [
        {
          "output_type": "stream",
          "name": "stdout",
          "text": [
            "== Parsed Logical Plan ==\n",
            "'Filter ('id = 2)\n",
            "+- LogicalRDD [id#0L, name#1], false\n",
            "\n",
            "== Analyzed Logical Plan ==\n",
            "id: bigint, name: string\n",
            "Filter (id#0L = cast(2 as bigint))\n",
            "+- LogicalRDD [id#0L, name#1], false\n",
            "\n",
            "== Optimized Logical Plan ==\n",
            "Filter (isnotnull(id#0L) AND (id#0L = 2))\n",
            "+- InMemoryRelation [id#0L, name#1], StorageLevel(memory, 1 replicas)\n",
            "      +- *(1) Scan ExistingRDD[id#0L,name#1]\n",
            "\n",
            "== Physical Plan ==\n",
            "AdaptiveSparkPlan isFinalPlan=false\n",
            "+- Filter (isnotnull(id#0L) AND (id#0L = 2))\n",
            "   +- InMemoryTableScan [id#0L, name#1], [isnotnull(id#0L), (id#0L = 2)]\n",
            "         +- InMemoryRelation [id#0L, name#1], StorageLevel(memory, 1 replicas)\n",
            "               +- *(1) Scan ExistingRDD[id#0L,name#1]\n",
            "\n"
          ]
        }
      ]
    },
    {
      "cell_type": "code",
      "source": [
        "df2.unpersist()"
      ],
      "metadata": {
        "colab": {
          "base_uri": "https://localhost:8080/"
        },
        "id": "uo-5VPczOq8p",
        "outputId": "4ed19fd5-4785-4b6a-a00c-876dfabbff6d"
      },
      "execution_count": 15,
      "outputs": [
        {
          "output_type": "execute_result",
          "data": {
            "text/plain": [
              "DataFrame[id: bigint, name: string]"
            ]
          },
          "metadata": {},
          "execution_count": 15
        }
      ]
    },
    {
      "cell_type": "code",
      "source": [
        "df2.show()"
      ],
      "metadata": {
        "colab": {
          "base_uri": "https://localhost:8080/"
        },
        "id": "w9pHS1y5Ot1M",
        "outputId": "5c8c63fd-b0f1-4dbb-f986-b1f1620f2c0b"
      },
      "execution_count": 16,
      "outputs": [
        {
          "output_type": "stream",
          "name": "stdout",
          "text": [
            "+---+----+\n",
            "| id|name|\n",
            "+---+----+\n",
            "|  2| Bob|\n",
            "+---+----+\n",
            "\n"
          ]
        }
      ]
    },
    {
      "cell_type": "code",
      "source": [
        "df2.explain(True)"
      ],
      "metadata": {
        "colab": {
          "base_uri": "https://localhost:8080/"
        },
        "id": "qk6Z-vmKOyL0",
        "outputId": "2bf27ec4-7164-4154-8b49-58a85346e3d8"
      },
      "execution_count": 18,
      "outputs": [
        {
          "output_type": "stream",
          "name": "stdout",
          "text": [
            "== Parsed Logical Plan ==\n",
            "'Filter ('id = 2)\n",
            "+- LogicalRDD [id#0L, name#1], false\n",
            "\n",
            "== Analyzed Logical Plan ==\n",
            "id: bigint, name: string\n",
            "Filter (id#0L = cast(2 as bigint))\n",
            "+- LogicalRDD [id#0L, name#1], false\n",
            "\n",
            "== Optimized Logical Plan ==\n",
            "Filter (isnotnull(id#0L) AND (id#0L = 2))\n",
            "+- InMemoryRelation [id#0L, name#1], StorageLevel(memory, 1 replicas)\n",
            "      +- *(1) Scan ExistingRDD[id#0L,name#1]\n",
            "\n",
            "== Physical Plan ==\n",
            "AdaptiveSparkPlan isFinalPlan=false\n",
            "+- Filter (isnotnull(id#0L) AND (id#0L = 2))\n",
            "   +- InMemoryTableScan [id#0L, name#1], [isnotnull(id#0L), (id#0L = 2)]\n",
            "         +- InMemoryRelation [id#0L, name#1], StorageLevel(memory, 1 replicas)\n",
            "               +- *(1) Scan ExistingRDD[id#0L,name#1]\n",
            "\n"
          ]
        }
      ]
    }
  ]
}